{
 "cells": [
  {
   "cell_type": "code",
   "execution_count": 1,
   "id": "83193c5a",
   "metadata": {},
   "outputs": [],
   "source": [
    "import yfinance as yf"
   ]
  },
  {
   "cell_type": "code",
   "execution_count": 2,
   "id": "b7f52857",
   "metadata": {},
   "outputs": [
    {
     "name": "stderr",
     "output_type": "stream",
     "text": [
      "C:\\Users\\navee\\AppData\\Local\\Temp\\ipykernel_9880\\252787238.py:1: FutureWarning: YF.download() has changed argument auto_adjust default to True\n",
      "  data=yf.download(tickers=\"GOOG\",start=\"2025-01-01\",end=\"2025-09-1\")\n",
      "[*********************100%***********************]  1 of 1 completed\n"
     ]
    }
   ],
   "source": [
    "data=yf.download(tickers=\"GOOG\",start=\"2025-01-01\",end=\"2025-09-1\")"
   ]
  },
  {
   "cell_type": "code",
   "execution_count": 3,
   "id": "158c8c7c",
   "metadata": {},
   "outputs": [
    {
     "data": {
      "text/html": [
       "<div>\n",
       "<style scoped>\n",
       "    .dataframe tbody tr th:only-of-type {\n",
       "        vertical-align: middle;\n",
       "    }\n",
       "\n",
       "    .dataframe tbody tr th {\n",
       "        vertical-align: top;\n",
       "    }\n",
       "\n",
       "    .dataframe thead th {\n",
       "        text-align: right;\n",
       "    }\n",
       "</style>\n",
       "<table border=\"1\" class=\"dataframe\">\n",
       "  <thead>\n",
       "    <tr style=\"text-align: right;\">\n",
       "      <th>Ticker</th>\n",
       "      <th>GOOG</th>\n",
       "    </tr>\n",
       "    <tr>\n",
       "      <th>Date</th>\n",
       "      <th></th>\n",
       "    </tr>\n",
       "  </thead>\n",
       "  <tbody>\n",
       "    <tr>\n",
       "      <th>2025-01-02</th>\n",
       "      <td>190.014648</td>\n",
       "    </tr>\n",
       "    <tr>\n",
       "      <th>2025-01-03</th>\n",
       "      <td>192.506561</td>\n",
       "    </tr>\n",
       "    <tr>\n",
       "      <th>2025-01-06</th>\n",
       "      <td>197.320984</td>\n",
       "    </tr>\n",
       "    <tr>\n",
       "      <th>2025-01-07</th>\n",
       "      <td>196.075012</td>\n",
       "    </tr>\n",
       "    <tr>\n",
       "      <th>2025-01-08</th>\n",
       "      <td>194.759262</td>\n",
       "    </tr>\n",
       "    <tr>\n",
       "      <th>...</th>\n",
       "      <td>...</td>\n",
       "    </tr>\n",
       "    <tr>\n",
       "      <th>2025-08-25</th>\n",
       "      <td>208.973221</td>\n",
       "    </tr>\n",
       "    <tr>\n",
       "      <th>2025-08-26</th>\n",
       "      <td>207.764297</td>\n",
       "    </tr>\n",
       "    <tr>\n",
       "      <th>2025-08-27</th>\n",
       "      <td>208.024078</td>\n",
       "    </tr>\n",
       "    <tr>\n",
       "      <th>2025-08-28</th>\n",
       "      <td>212.180344</td>\n",
       "    </tr>\n",
       "    <tr>\n",
       "      <th>2025-08-29</th>\n",
       "      <td>213.339310</td>\n",
       "    </tr>\n",
       "  </tbody>\n",
       "</table>\n",
       "<p>165 rows × 1 columns</p>\n",
       "</div>"
      ],
      "text/plain": [
       "Ticker            GOOG\n",
       "Date                  \n",
       "2025-01-02  190.014648\n",
       "2025-01-03  192.506561\n",
       "2025-01-06  197.320984\n",
       "2025-01-07  196.075012\n",
       "2025-01-08  194.759262\n",
       "...                ...\n",
       "2025-08-25  208.973221\n",
       "2025-08-26  207.764297\n",
       "2025-08-27  208.024078\n",
       "2025-08-28  212.180344\n",
       "2025-08-29  213.339310\n",
       "\n",
       "[165 rows x 1 columns]"
      ]
     },
     "execution_count": 3,
     "metadata": {},
     "output_type": "execute_result"
    }
   ],
   "source": [
    "data['Close']"
   ]
  },
  {
   "cell_type": "code",
   "execution_count": 4,
   "id": "d6ae0781",
   "metadata": {},
   "outputs": [],
   "source": [
    "\n",
    "import yfinance as yf\n",
    "import numpy as np\n",
    "from sklearn.preprocessing import MinMaxScaler\n",
    "import pandas as pd  \n",
    "\n",
    "def load_data(tiket,start,end):\n",
    "    try:\n",
    "        data=yf.download(tickers=tiket,start=start,end=end)\n",
    "        if data.empty():\n",
    "            return False\n",
    "        return data\n",
    "    except Exception as ex:\n",
    "        print(\"there is error\",ex)\n",
    "\n",
    "def feature_engineering(data_df,feature='Close'):\n",
    "    try:\n",
    "        fea=data_df[feature].values.reshape(-1,1)\n",
    "        sc=MinMaxScaler(feature_range=(-1,1))\n",
    "        fe_sc=sc.fit_transform(sc)\n",
    "\n",
    "    except Exception as ex:\n",
    "        print(\"there is error\",ex)\n",
    "\n",
    "def load_train_test(data_len,sequential):\n",
    "    x,y=[],[]\n",
    "    for i in range(len(data_len),sequential):\n",
    "        x.append(data_len[i:i+sequential])\n",
    "        y.append(data_len[i-sequential])\n",
    "\n",
    "    return np.array(x),np.array(y)\n",
    "\n",
    "        \n"
   ]
  },
  {
   "cell_type": "code",
   "execution_count": null,
   "id": "4d1c2ff1",
   "metadata": {},
   "outputs": [],
   "source": []
  },
  {
   "cell_type": "code",
   "execution_count": null,
   "id": "91d72c7f",
   "metadata": {},
   "outputs": [],
   "source": []
  },
  {
   "cell_type": "code",
   "execution_count": null,
   "id": "be55abda",
   "metadata": {},
   "outputs": [],
   "source": []
  }
 ],
 "metadata": {
  "kernelspec": {
   "display_name": "base",
   "language": "python",
   "name": "python3"
  },
  "language_info": {
   "codemirror_mode": {
    "name": "ipython",
    "version": 3
   },
   "file_extension": ".py",
   "mimetype": "text/x-python",
   "name": "python",
   "nbconvert_exporter": "python",
   "pygments_lexer": "ipython3",
   "version": "3.12.3"
  }
 },
 "nbformat": 4,
 "nbformat_minor": 5
}
